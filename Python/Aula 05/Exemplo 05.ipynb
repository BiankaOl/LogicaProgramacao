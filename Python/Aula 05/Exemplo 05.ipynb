{
 "cells": [
  {
   "cell_type": "code",
   "execution_count": null,
   "metadata": {},
   "outputs": [],
   "source": [
    "# Lista\n",
    "\n",
    "lista = [1, 2, 3]\n",
    "lista_nomes = [\"ramon\", \"jose\", \"maria\"]\n",
    "\n",
    "# Como apresentar uma lista inteira\n",
    "print(lista)"
   ]
  },
  {
   "cell_type": "code",
   "execution_count": null,
   "metadata": {},
   "outputs": [],
   "source": [
    "# Como setar apenas um valor da lista\n",
    "lista = [1, 2, 3]\n",
    "print(lista[0]) # toda lista começa da posição 0\n",
    "print(lista[1])\n",
    "print(lista[2]) # tamanho máximo da lista que criamos na linha 50"
   ]
  },
  {
   "cell_type": "code",
   "execution_count": null,
   "metadata": {},
   "outputs": [],
   "source": [
    "# For em uma lista\n",
    "lista_nomes = [\"ramon\", \"jose\", \"maria\"]\n",
    "for nome in lista_nomes:\n",
    "  print(nome)"
   ]
  },
  {
   "cell_type": "code",
   "execution_count": null,
   "metadata": {},
   "outputs": [],
   "source": [
    "# Como alterar um valor da lista\n",
    "lista_nomes = [\"artur\", \"jose\", \"maria\"]\n",
    "print(lista_nomes)\n",
    "\n",
    "lista_nomes[2] = \"josefa\"\n",
    "print(lista_nomes)\n"
   ]
  },
  {
   "cell_type": "code",
   "execution_count": null,
   "metadata": {},
   "outputs": [],
   "source": [
    "# Saber o tamanho da lista\n",
    "lista_nomes = [\"artur\", \"jose\", \"maria\"]\n",
    "print(len(lista_nomes))"
   ]
  },
  {
   "cell_type": "code",
   "execution_count": null,
   "metadata": {},
   "outputs": [],
   "source": [
    "# Como adicionar elementos na lista\n",
    "lista_nomes = [\"artur\", \"jose\", \"maria\"]\n",
    "print(lista_nomes)\n",
    "lista_nomes.append(\"Ramon\")\n",
    "print(lista_nomes)"
   ]
  },
  {
   "cell_type": "code",
   "execution_count": null,
   "metadata": {},
   "outputs": [],
   "source": [
    "# Como remover um elemento da lista\n",
    "lista_nomes = [\"artur\", \"jose\", \"maria\"]\n",
    "del lista_nomes[2]\n",
    "print(lista_nomes)"
   ]
  },
  {
   "cell_type": "code",
   "execution_count": null,
   "metadata": {},
   "outputs": [],
   "source": [
    "# Matriz (lista dentro de uma lista)\n",
    "matriz = [[1, 2, 3],\n",
    "          [4, 5, 6],\n",
    "          [7, 8, 9]]\n",
    "\n",
    "# Imprimindo a linha 0 = [1, 2, 3]\n",
    "print(matriz[0])\n",
    "\n",
    "# Imprimindo o valor 1 = \"2\" da linha 0 = [1, 2, 3]\n",
    "print(matriz[1][0])\n",
    "\n",
    "# Exemplo de listas\n",
    "carrinho_de_compras = []\n",
    "\n",
    "# [nome do produto, quantidade, valor unitário]\n",
    "produto1 = [\"Maçã\", 2, 5.5]\n",
    "carrinho_de_compras.append(produto1) # Adicionando o produto 1 no carrinho\n",
    "\n",
    "produto2 = [\"Coca-cola\", 1, 7.5]\n",
    "carrinho_de_compras.append(produto2) # Adicionando o produto 2 no carrinho\n",
    "\n",
    "produto3 = [\"Biscoito\", 3, 3.5]\n",
    "carrinho_de_compras.append(produto3) # Adicionando o produto 3 no carrinho\n",
    "\n",
    "print(f\"Seu carrinho de compras é: {carrinho_de_compras}\")"
   ]
  }
 ],
 "metadata": {
  "language_info": {
   "name": "python"
  }
 },
 "nbformat": 4,
 "nbformat_minor": 2
}
